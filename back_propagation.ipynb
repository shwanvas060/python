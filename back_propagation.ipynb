{
  "nbformat": 4,
  "nbformat_minor": 0,
  "metadata": {
    "colab": {
      "name": "back_propagation",
      "provenance": [],
      "collapsed_sections": [],
      "authorship_tag": "ABX9TyOJVP2e+XMfgDPHYnyx5Hmq",
      "include_colab_link": true
    },
    "kernelspec": {
      "name": "python3",
      "display_name": "Python 3"
    }
  },
  "cells": [
    {
      "cell_type": "markdown",
      "metadata": {
        "id": "view-in-github",
        "colab_type": "text"
      },
      "source": [
        "<a href=\"https://colab.research.google.com/github/shwanvas060/python/blob/master/back_propagation.ipynb\" target=\"_parent\"><img src=\"https://colab.research.google.com/assets/colab-badge.svg\" alt=\"Open In Colab\"/></a>"
      ]
    },
    {
      "cell_type": "code",
      "metadata": {
        "colab": {
          "base_uri": "https://localhost:8080/"
        },
        "id": "F9zFHASxN0cY",
        "outputId": "92685938-f698-418d-d2f6-5d7f43a57840"
      },
      "source": [
        "#zurada exercise 4.14\r\n",
        "import numpy as np\r\n",
        "\r\n",
        "def bipolar(x):\r\n",
        "    return (2/(1+np.exp(-x))-1)\r\n",
        "\r\n",
        "z = np.array([1,3,-1])\r\n",
        "v = np.array([[1,-2,3],[2,0,-1]])\r\n",
        "w = np.array([[1,0,-2],[1,-2,3]])\r\n",
        "d = np.array([0.95,0.05])\r\n",
        "e = np.zeros(2,)\r\n",
        "eta = 1\r\n",
        "#---------------------------------------\r\n",
        "print (\"input z\", z)\r\n",
        "print(\"shape of z \", z.shape)\r\n",
        "print(\"weights of v \", v)\r\n",
        "print(\"shape of v \", v.shape)\r\n",
        "print(\"weights of w\", w)\r\n",
        "print(\"shape of w \", w.shape)\r\n",
        "\r\n",
        "print(\"d values\", d)\r\n",
        "#------------------------------------\r\n",
        "#find y\r\n",
        "net1 = np.dot(v,z)\r\n",
        "print(\"net values of v and z:\", net1)\r\n",
        "y = []\r\n",
        "for i in net1:\r\n",
        "    out = bipolar(i)\r\n",
        "    y = y+[out]\r\n",
        "aug = [-1.0]\r\n",
        "y = y+aug\r\n",
        "y = np.array(y)\r\n",
        "print(\"y values are: \")\r\n",
        "print(y)\r\n",
        "#-------------------------------------\r\n",
        "#print(\"shape of w\", w.shape)\r\n",
        "#print (\"shape of y\", y.shape)\r\n",
        "#-------------------------------------\r\n",
        "#find o\r\n",
        "net2 = np.dot(w,y)\r\n",
        "print(\"net values of w and y:\", net2)\r\n",
        "ot = []\r\n",
        "for j in net2:\r\n",
        "    out = bipolar(j)\r\n",
        "    ot = ot+[out]\r\n",
        "ot = np.array(ot)\r\n",
        "print(\"output values are \")\r\n",
        "print(ot)\r\n",
        "#-------------------------------------\r\n",
        "#calculation of errors\r\n",
        "error = (np.square(d-ot))+e\r\n",
        "print(\"error - \", error)\r\n",
        "#------------------------------------------\r\n",
        "#calculation of deltaok\r\n",
        "onem = np.ones(2,)\r\n",
        "print(onem)\r\n",
        "deltaok = 0.5*(d-ot)*(1-(ot**2))\r\n",
        "print(\"deltaok value\", deltaok)\r\n",
        "#calculation of deltayj\r\n",
        "deltaokw = deltaok.dot(w)\r\n",
        "print(deltaokw)\r\n",
        "deltayj = 0.5*(1-(y*y))*deltaokw\r\n",
        "print(\"deltayj value \", deltayj)\r\n",
        "#----------------------------------------------\r\n",
        "#change in weights, w and v\r\n",
        "yt = y.reshape(1,3)\r\n",
        "deltaok = deltaok.reshape(2,1)\r\n",
        "#print(\"shape of y \", y.shape)\r\n",
        "print (\"shape of yt\", yt.shape)\r\n",
        "print(\"shape of deltaok\", deltaok.shape)\r\n",
        "deltaoky = np.multiply(deltaok,yt)\r\n",
        "print(\"value of deltaok with y\", deltaoky)\r\n",
        "w = w+(eta*deltaoky)\r\n",
        "print(\"new weights w \", w)\r\n"
      ],
      "execution_count": 4,
      "outputs": [
        {
          "output_type": "stream",
          "text": [
            "input z [ 1  3 -1]\n",
            "shape of z  (3,)\n",
            "weights of v  [[ 1 -2  3]\n",
            " [ 2  0 -1]]\n",
            "shape of v  (2, 3)\n",
            "weights of w [[ 1  0 -2]\n",
            " [ 1 -2  3]]\n",
            "shape of w  (2, 3)\n",
            "d values [0.95 0.05]\n",
            "net values of v and z: [-8  3]\n",
            "y values are: \n",
            "[-0.9993293   0.90514825 -1.        ]\n",
            "net values of w and y: [ 1.0006707  -5.80962581]\n",
            "output values are \n",
            "[ 0.46238085 -0.99402083]\n",
            "error -  [0.23777243 1.08997948]\n",
            "[1. 1.]\n",
            "deltaok value [0.19168405 0.00622372]\n",
            "[ 0.19790777 -0.01244744 -0.36469694]\n",
            "deltayj value  [ 0.00013269 -0.00112467 -0.        ]\n",
            "shape of yt (1, 3)\n",
            "shape of deltaok (2, 1)\n",
            "value of deltaok with y [[-0.19155549  0.17350248 -0.19168405]\n",
            " [-0.00621955  0.00563339 -0.00622372]]\n",
            "new weights w  [[ 0.80844451  0.17350248 -2.19168405]\n",
            " [ 0.99378045 -1.99436661  2.99377628]]\n"
          ],
          "name": "stdout"
        }
      ]
    },
    {
      "cell_type": "code",
      "metadata": {
        "colab": {
          "base_uri": "https://localhost:8080/",
          "height": 231
        },
        "id": "5Z3FM0LMT3d-",
        "outputId": "489f2dff-672e-463d-f9b6-83c5bdcd7de8"
      },
      "source": [
        "#change in weights, w and v\r\n",
        "zt = z.reshape(1,3)\r\n",
        "deltayj = deltayj.reshape(3,1)\r\n",
        "#print(\"shape of y \", y.shape)\r\n",
        "print (\"shape of zt\", zt.shape)\r\n",
        "print(\"shape of deltayj\", deltayj.shape)\r\n",
        "deltayjz = np.multiply(deltayj,zt)\r\n",
        "print(\"value of deltayj with z\", deltayjz)\r\n",
        "v = v+(eta*deltayjz)\r\n",
        "print(\"new hidden weights v \", v)"
      ],
      "execution_count": 2,
      "outputs": [
        {
          "output_type": "error",
          "ename": "NameError",
          "evalue": "ignored",
          "traceback": [
            "\u001b[0;31m---------------------------------------------------------------------------\u001b[0m",
            "\u001b[0;31mNameError\u001b[0m                                 Traceback (most recent call last)",
            "\u001b[0;32m<ipython-input-2-dca8b77ca6bc>\u001b[0m in \u001b[0;36m<module>\u001b[0;34m()\u001b[0m\n\u001b[1;32m      1\u001b[0m \u001b[0;31m#change in weights, w and v\u001b[0m\u001b[0;34m\u001b[0m\u001b[0;34m\u001b[0m\u001b[0;34m\u001b[0m\u001b[0m\n\u001b[1;32m      2\u001b[0m \u001b[0mzt\u001b[0m \u001b[0;34m=\u001b[0m \u001b[0mz\u001b[0m\u001b[0;34m.\u001b[0m\u001b[0mreshape\u001b[0m\u001b[0;34m(\u001b[0m\u001b[0;36m1\u001b[0m\u001b[0;34m,\u001b[0m\u001b[0;36m3\u001b[0m\u001b[0;34m)\u001b[0m\u001b[0;34m\u001b[0m\u001b[0;34m\u001b[0m\u001b[0m\n\u001b[0;32m----> 3\u001b[0;31m \u001b[0mdeltayj\u001b[0m \u001b[0;34m=\u001b[0m \u001b[0mdeltayj\u001b[0m\u001b[0;34m.\u001b[0m\u001b[0mreshape\u001b[0m\u001b[0;34m(\u001b[0m\u001b[0;36m3\u001b[0m\u001b[0;34m,\u001b[0m\u001b[0;36m1\u001b[0m\u001b[0;34m)\u001b[0m\u001b[0;34m\u001b[0m\u001b[0;34m\u001b[0m\u001b[0m\n\u001b[0m\u001b[1;32m      4\u001b[0m \u001b[0;31m#print(\"shape of y \", y.shape)\u001b[0m\u001b[0;34m\u001b[0m\u001b[0;34m\u001b[0m\u001b[0;34m\u001b[0m\u001b[0m\n\u001b[1;32m      5\u001b[0m \u001b[0mprint\u001b[0m \u001b[0;34m(\u001b[0m\u001b[0;34m\"shape of zt\"\u001b[0m\u001b[0;34m,\u001b[0m \u001b[0mzt\u001b[0m\u001b[0;34m.\u001b[0m\u001b[0mshape\u001b[0m\u001b[0;34m)\u001b[0m\u001b[0;34m\u001b[0m\u001b[0;34m\u001b[0m\u001b[0m\n",
            "\u001b[0;31mNameError\u001b[0m: name 'deltayj' is not defined"
          ]
        }
      ]
    }
  ]
}