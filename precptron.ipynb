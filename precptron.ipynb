{
  "nbformat": 4,
  "nbformat_minor": 0,
  "metadata": {
    "colab": {
      "name": "precptron.ipynb",
      "provenance": [],
      "authorship_tag": "ABX9TyPWi9sPVYc7BpDT+keXmIqe",
      "include_colab_link": true
    },
    "kernelspec": {
      "name": "python2",
      "display_name": "Python 2"
    }
  },
  "cells": [
    {
      "cell_type": "markdown",
      "metadata": {
        "id": "view-in-github",
        "colab_type": "text"
      },
      "source": [
        "<a href=\"https://colab.research.google.com/github/shwanvas060/python/blob/master/precptron.ipynb\" target=\"_parent\"><img src=\"https://colab.research.google.com/assets/colab-badge.svg\" alt=\"Open In Colab\"/></a>"
      ]
    },
    {
      "cell_type": "code",
      "metadata": {
        "id": "h4QKGIpIOv9g"
      },
      "source": [
        "import numpy as np\r\n",
        "#/*----------------Function for perceptron algorithm --------------*/\r\n",
        "def perceptron(c,X,d,w,iter):\r\n",
        "    for n in range(1,iter):# Number of iterations  = 7\r\n",
        "        for i, x in enumerate(X):\r\n",
        "            net = np.dot(X[i],w)\r\n",
        "            if net > 0:\r\n",
        "                out = 1\r\n",
        "            else:\r\n",
        "                out = -1\r\n",
        "            r = c*(d[i] - out)\r\n",
        "            delta_w = r*x\r\n",
        "            w = delta_w+w\r\n",
        "            print n, i, w\r\n",
        "    return w\r\n",
        "#/*---------------------Function for testing the perceptron-----------*/\r\n",
        "\r\n",
        "def test_perceptron(final_out,X,w):\r\n",
        "    for i,x in enumerate(X):\r\n",
        "        net = np.dot(X[i],w)\r\n",
        "        if net>0:\r\n",
        "            out = 1\r\n",
        "        else:\r\n",
        "            out = -1\r\n",
        "        final_out = final_out+[out]\r\n",
        "    return final_out\r\n",
        "\r\n",
        "#*---------------Training---------------------------------*/\r\n",
        "X = np.array([[1,-2,0,-1],[0,1.5,-0.5,-1],[-1,1,0.5,-1],])\r\n",
        "print \"Inputs\", X\r\n",
        "d = np.array([-1,-1,1])\r\n",
        "print \"Teacher values\", d\r\n",
        "w= ([1,-1,0,0.5])\r\n",
        "print \"initial values of weights\", w\r\n",
        "c = 0.1\r\n",
        "iterations = 7\r\n",
        "print \"Training\"\r\n",
        "print \"----------\"\r\n",
        "final_weight = perceptron(c,X,d,w,iterations)\r\n",
        "print \"Final sets of weights: \", final_weight\r\n",
        "#*-----------------Testing-------------------------------*/\r\n",
        "final_out = []\r\n",
        "print \"Testing\"\r\n",
        "print \"--------\"\r\n",
        "final_output = test_perceptron(final_out,X,final_weight)\r\n",
        "print \"Final output: \", final_output\r\n",
        "print \"Original Teacher values\", d\r\n"
      ],
      "execution_count": null,
      "outputs": []
    }
  ]
}